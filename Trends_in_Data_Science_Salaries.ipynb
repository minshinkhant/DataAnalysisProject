{
  "nbformat": 4,
  "nbformat_minor": 0,
  "metadata": {
    "colab": {
      "name": "Trends in Data Science Salaries.ipynb",
      "provenance": [],
      "collapsed_sections": []
    },
    "kernelspec": {
      "name": "python3",
      "display_name": "Python 3"
    },
    "language_info": {
      "name": "python"
    }
  },
  "cells": [
    {
      "cell_type": "code",
      "execution_count": null,
      "metadata": {
        "colab": {
          "base_uri": "https://localhost:8080/",
          "height": 844
        },
        "id": "KBduo6TixQ98",
        "outputId": "2808c0e6-bc7f-4a13-9b8c-eba125df0c04"
      },
      "outputs": [
        {
          "output_type": "display_data",
          "data": {
            "text/html": [
              "\n",
              "<div class='tableauPlaceholder' id='viz1644717494506' style='position: relative'>\n",
              " <object class='tableauViz'  style='display:none;'><param name='host_url' value='https%3A%2F%2Fpublic.tableau.com%2F' /> \n",
              " <param name='embed_code_version' value='3' /> <param name='site_root' value='' />\n",
              " <param name='name' value='DataScienceSalaries_16432434190470&#47;Dashboard1' />\n",
              " <param name='tabs' value='no' /><param name='toolbar' value='yes' />\n",
              " <param name='animate_transition' value='yes' /><param name='display_static_image' value='yes' />\n",
              " <param name='display_spinner' value='yes' /><param name='display_overlay' value='yes' />\n",
              " <param name='display_count' value='yes' /><param name='language' value='en-US' />\n",
              " </object></div>                <script type='text/javascript'>                 \n",
              " var divElement = document.getElementById('viz1644717494506');                    \n",
              " var vizElement = divElement.getElementsByTagName('object')[0];                    \n",
              " if ( divElement.offsetWidth > 800 ) { vizElement.style.width='1200px';vizElement.style.height='827px';} \n",
              " else if ( divElement.offsetWidth > 500 ) { vizElement.style.width='1200px';vizElement.style.height='827px';} \n",
              " else { vizElement.style.width='100%';vizElement.style.height='1377px';}                     \n",
              " var scriptElement = document.createElement('script');                    \n",
              " scriptElement.src = 'https://public.tableau.com/javascripts/api/viz_v1.js';                    \n",
              "vizElement.parentNode.insertBefore(scriptElement, vizElement);                </script> "
            ],
            "text/plain": [
              "<IPython.core.display.HTML object>"
            ]
          },
          "metadata": {}
        }
      ],
      "source": [
        "%%html\n",
        "\n",
        "<div class='tableauPlaceholder' id='viz1644717494506' style='position: relative'>\n",
        " <object class='tableauViz'  style='display:none;'><param name='host_url' value='https%3A%2F%2Fpublic.tableau.com%2F' /> \n",
        " <param name='embed_code_version' value='3' /> <param name='site_root' value='' />\n",
        " <param name='name' value='DataScienceSalaries_16432434190470&#47;Dashboard1' />\n",
        " <param name='tabs' value='no' /><param name='toolbar' value='yes' />\n",
        " <param name='animate_transition' value='yes' /><param name='display_static_image' value='yes' />\n",
        " <param name='display_spinner' value='yes' /><param name='display_overlay' value='yes' />\n",
        " <param name='display_count' value='yes' /><param name='language' value='en-US' />\n",
        " </object></div>                <script type='text/javascript'>                 \n",
        " var divElement = document.getElementById('viz1644717494506');                    \n",
        " var vizElement = divElement.getElementsByTagName('object')[0];                    \n",
        " if ( divElement.offsetWidth > 800 ) { vizElement.style.width='1200px';vizElement.style.height='827px';} \n",
        " else if ( divElement.offsetWidth > 500 ) { vizElement.style.width='1200px';vizElement.style.height='827px';} \n",
        " else { vizElement.style.width='100%';vizElement.style.height='1377px';}                     \n",
        " var scriptElement = document.createElement('script');                    \n",
        " scriptElement.src = 'https://public.tableau.com/javascripts/api/viz_v1.js';                    \n",
        "vizElement.parentNode.insertBefore(scriptElement, vizElement);                </script> "
      ]
    },
    {
      "cell_type": "code",
      "source": [
        ""
      ],
      "metadata": {
        "id": "hco7JXRxzZBn"
      },
      "execution_count": null,
      "outputs": []
    }
  ]
}